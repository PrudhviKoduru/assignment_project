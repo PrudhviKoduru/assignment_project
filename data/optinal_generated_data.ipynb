{
 "cells": [
  {
   "cell_type": "code",
   "execution_count": null,
   "id": "d0bc0f98-a201-46c3-b8da-91448dea4ec5",
   "metadata": {},
   "outputs": [],
   "source": [
    "import json\n",
    "import random\n",
    "import time\n",
    "import os\n",
    "\n",
    "# Target file size (in bytes)\n",
    "TARGET_SIZE = 100 * 1024 * 1024  # 100 MB\n",
    "OUTPUT_FILE = \"iot_data_100MB.json\"\n",
    "\n",
    "# Example IoT sensors\n",
    "sensor_types = [\n",
    "    \"temperature\", \"humidity\", \"light\", \"co2\",\n",
    "    \"sound\", \"motion\", \"wind_speed\", \"air_pressure\",\n",
    "    \"gps_latitude\", \"gps_longitude\"\n",
    "]\n",
    "\n",
    "def generate_sensor_record(device_id: int):\n",
    "    \"\"\"Create a single IoT data record.\"\"\"\n",
    "    record = {\n",
    "        \"timestamp\": time.time(),\n",
    "        \"device_id\": f\"sensor_{device_id}\",\n",
    "        \"data\": {sensor: round(random.uniform(10, 100), 2) for sensor in sensor_types},\n",
    "        \"region\": random.choice([\"north\", \"south\", \"east\", \"west\"]),\n",
    "        \"status\": random.choice([\"active\", \"idle\", \"error\"])\n",
    "    }\n",
    "    return record\n",
    "\n",
    "def generate_large_iot_file():\n",
    "    with open(OUTPUT_FILE, \"w\") as f:\n",
    "        f.write(\"[\\n\")  # JSON array start\n",
    "        first = True\n",
    "        total_size = 0\n",
    "        device_count = 5000  # simulate 5000 IoT devices\n",
    "\n",
    "        while total_size < TARGET_SIZE:\n",
    "            if not first:\n",
    "                f.write(\",\\n\")\n",
    "            record = generate_sensor_record(random.randint(1, device_count))\n",
    "            record_json = json.dumps(record)\n",
    "            f.write(record_json)\n",
    "            total_size = f.tell()\n",
    "            first = False\n",
    "\n",
    "        f.write(\"\\n]\\n\")  # JSON array end\n",
    "    print(f\"Generated {OUTPUT_FILE} ({total_size/1024/1024:.2f} MB)\")\n",
    "\n",
    "if __name__ == \"__main__\":\n",
    "    generate_large_iot_file()\n"
   ]
  }
 ],
 "metadata": {
  "kernelspec": {
   "display_name": "Python 3 (ipykernel)",
   "language": "python",
   "name": "python3"
  },
  "language_info": {
   "codemirror_mode": {
    "name": "ipython",
    "version": 3
   },
   "file_extension": ".py",
   "mimetype": "text/x-python",
   "name": "python",
   "nbconvert_exporter": "python",
   "pygments_lexer": "ipython3",
   "version": "3.13.6"
  }
 },
 "nbformat": 4,
 "nbformat_minor": 5
}
